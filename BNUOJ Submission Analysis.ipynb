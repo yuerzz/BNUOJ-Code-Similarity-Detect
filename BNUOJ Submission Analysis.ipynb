{
 "cells": [
  {
   "cell_type": "code",
   "execution_count": 2,
   "metadata": {
    "collapsed": true
   },
   "outputs": [],
   "source": [
    "import pandas as pd\n",
    "import requests\n",
    "from bs4 import BeautifulSoup"
   ]
  },
  {
   "cell_type": "code",
   "execution_count": 115,
   "metadata": {
    "collapsed": true,
    "scrolled": false
   },
   "outputs": [],
   "source": [
    "df = pd.read_excel('./Submission Analysis.xlsx')\n",
    "df['Location'] = None"
   ]
  },
  {
   "cell_type": "code",
   "execution_count": 107,
   "metadata": {
    "collapsed": true
   },
   "outputs": [],
   "source": [
    "def get_address(ip):\n",
    "    r = requests.get('http://ip.bnu.edu.cn/?ip=' + ip)\n",
    "    r.encoding = 'gb2312'\n",
    "    soup = BeautifulSoup(r.text,'html5lib')\n",
    "    return soup.find_all('font')[0].text"
   ]
  },
  {
   "cell_type": "code",
   "execution_count": 149,
   "metadata": {},
   "outputs": [
    {
     "name": "stderr",
     "output_type": "stream",
     "text": [
      "/Users/chenzitan/.pyenv/versions/anaconda3-4.4.0/envs/cv/lib/python3.6/site-packages/ipykernel_launcher.py:2: SettingWithCopyWarning: \n",
      "A value is trying to be set on a copy of a slice from a DataFrame\n",
      "\n",
      "See the caveats in the documentation: http://pandas.pydata.org/pandas-docs/stable/indexing.html#indexing-view-versus-copy\n",
      "  \n"
     ]
    }
   ],
   "source": [
    "for idx in range(860):\n",
    "    df['Location'][idx] = get_address(df['IP'][idx])"
   ]
  },
  {
   "cell_type": "code",
   "execution_count": 151,
   "metadata": {
    "collapsed": true
   },
   "outputs": [],
   "source": [
    "df.to_excel('a.xlsx')"
   ]
  },
  {
   "cell_type": "code",
   "execution_count": 166,
   "metadata": {
    "collapsed": true
   },
   "outputs": [],
   "source": [
    "for idx in range(860):\n",
    "    with open('code/' + str(df['RunID'][idx]) + '.txt', 'wt') as f:\n",
    "        print(df['Code'][idx], file=f)"
   ]
  },
  {
   "cell_type": "code",
   "execution_count": 85,
   "metadata": {},
   "outputs": [],
   "source": [
    "df = pd.read_excel('a.xlsx')"
   ]
  },
  {
   "cell_type": "code",
   "execution_count": 15,
   "metadata": {},
   "outputs": [],
   "source": [
    "import Levenshtein\n",
    "import difflib"
   ]
  },
  {
   "cell_type": "code",
   "execution_count": 287,
   "metadata": {},
   "outputs": [],
   "source": [
    "def simplify_code(code):\n",
    "    c = code\n",
    "    c = c.replace('{', '\\n{\\n').replace('}', '\\n}\\n')\n",
    "    import re\n",
    "    c = re.sub(r'^\\s+|#.*|//.*', '', c, flags=re.M)\n",
    "    c = re.sub(r'/\\*.*\\*/', '', c, flags=re.DOTALL)\n",
    "    c = re.sub(r'\\s*\\n+\\s*', '\\n', c)\n",
    "    c = re.sub(r'^\\n', '', c)\n",
    "    return c\n",
    "    \n",
    "def calculate_ratio(row_id1, row_id2):\n",
    "    code1, code2 = df['Code'][row_id1], df['Code'][row_id2]\n",
    "    code1, code2 = simplify_code(code1), simplify_code(code2)\n",
    "    return Levenshtein.ratio(code1, code2)\n",
    "\n",
    "def compare(run_id1, run_id2):\n",
    "    d = difflib.Differ()\n",
    "    code1, code2 = df['Code'][row_id1], df['Code'][row_id2]\n",
    "    diffs = d.compare(code1, code2)\n",
    "#     diffs = difflib.context_diff(df['Code'][run_id1], df['Code'][run_id2])\n",
    "    for diff in diffs:\n",
    "        print(diff)"
   ]
  },
  {
   "cell_type": "code",
   "execution_count": 288,
   "metadata": {
    "scrolled": false
   },
   "outputs": [
    {
     "name": "stdout",
     "output_type": "stream",
     "text": [
      "Problem A, RunID: 844820 [bnu18-45], RunID: 845232 [bnu18-23], ratio 0.805009\n",
      "Problem A, RunID: 844820 [bnu18-45], RunID: 845258 [bnu18-23], ratio 0.871143\n",
      "Problem A, RunID: 844820 [bnu18-45], RunID: 844769 [bnu18-51], ratio 0.817680\n",
      "Problem A, RunID: 844820 [bnu18-45], RunID: 844774 [bnu18-51], ratio 0.824663\n",
      "Problem A, RunID: 844820 [bnu18-45], RunID: 844775 [bnu18-51], ratio 0.862136\n",
      "Problem A, RunID: 844820 [bnu18-45], RunID: 845123 [bnu18-38], ratio 0.807407\n",
      "Problem A, RunID: 844820 [bnu18-45], RunID: 845170 [bnu18-38], ratio 0.807407\n",
      "Problem A, RunID: 844820 [bnu18-45], RunID: 845186 [bnu18-38], ratio 0.834846\n",
      "Problem A, RunID: 844820 [bnu18-45], RunID: 845198 [bnu18-38], ratio 0.838475\n",
      "Problem A, RunID: 844820 [bnu18-45], RunID: 845224 [bnu18-38], ratio 0.849365\n",
      "Problem A, RunID: 844820 [bnu18-45], RunID: 844825 [bnu18-44], ratio 0.830540\n",
      "Problem G, RunID: 845666 [bnu18-45], RunID: 845602 [bnu18-23], ratio 1.000000\n",
      "Problem C, RunID: 845959 [bnu18-45], RunID: 846321 [bnu18-23], ratio 0.887097\n",
      "Problem C, RunID: 845974 [bnu18-12], RunID: 846294 [bnu18-4], ratio 0.823529\n",
      "Problem A, RunID: 844833 [bnu18-23], RunID: 845086 [bnu18-38], ratio 0.803419\n",
      "Problem A, RunID: 844833 [bnu18-23], RunID: 845099 [bnu18-38], ratio 0.807692\n",
      "Problem A, RunID: 844833 [bnu18-23], RunID: 845103 [bnu18-38], ratio 0.813149\n",
      "Problem A, RunID: 844833 [bnu18-23], RunID: 845123 [bnu18-38], ratio 0.857664\n",
      "Problem A, RunID: 844833 [bnu18-23], RunID: 845170 [bnu18-38], ratio 0.857664\n",
      "Problem A, RunID: 844833 [bnu18-23], RunID: 845186 [bnu18-38], ratio 0.833631\n",
      "Problem A, RunID: 844833 [bnu18-23], RunID: 845198 [bnu18-38], ratio 0.833631\n",
      "Problem A, RunID: 844833 [bnu18-23], RunID: 845224 [bnu18-38], ratio 0.819320\n",
      "Problem A, RunID: 844833 [bnu18-23], RunID: 844758 [bnu18-52], ratio 0.808429\n",
      "Problem A, RunID: 844833 [bnu18-23], RunID: 844793 [bnu18-21], ratio 0.820896\n",
      "Problem A, RunID: 844833 [bnu18-23], RunID: 844825 [bnu18-44], ratio 0.862385\n",
      "Problem A, RunID: 844955 [bnu18-23], RunID: 845123 [bnu18-38], ratio 0.814947\n",
      "Problem A, RunID: 844955 [bnu18-23], RunID: 845170 [bnu18-38], ratio 0.814947\n",
      "Problem A, RunID: 844955 [bnu18-23], RunID: 844825 [bnu18-44], ratio 0.819320\n",
      "Problem A, RunID: 845232 [bnu18-23], RunID: 845123 [bnu18-38], ratio 0.808743\n",
      "Problem A, RunID: 845232 [bnu18-23], RunID: 845170 [bnu18-38], ratio 0.808743\n",
      "Problem A, RunID: 845232 [bnu18-23], RunID: 845186 [bnu18-38], ratio 0.832143\n",
      "Problem A, RunID: 845232 [bnu18-23], RunID: 845198 [bnu18-38], ratio 0.835714\n",
      "Problem A, RunID: 845232 [bnu18-23], RunID: 845224 [bnu18-38], ratio 0.825000\n",
      "Problem A, RunID: 845232 [bnu18-23], RunID: 844825 [bnu18-44], ratio 0.827839\n",
      "Problem A, RunID: 845258 [bnu18-23], RunID: 844775 [bnu18-51], ratio 0.810078\n",
      "Problem A, RunID: 845258 [bnu18-23], RunID: 845123 [bnu18-38], ratio 0.828096\n",
      "Problem A, RunID: 845258 [bnu18-23], RunID: 845170 [bnu18-38], ratio 0.828096\n",
      "Problem A, RunID: 845258 [bnu18-23], RunID: 845186 [bnu18-38], ratio 0.851449\n",
      "Problem A, RunID: 845258 [bnu18-23], RunID: 845198 [bnu18-38], ratio 0.855072\n",
      "Problem A, RunID: 845258 [bnu18-23], RunID: 845224 [bnu18-38], ratio 0.887681\n",
      "Problem A, RunID: 845258 [bnu18-23], RunID: 844793 [bnu18-21], ratio 0.835539\n",
      "Problem A, RunID: 845258 [bnu18-23], RunID: 844825 [bnu18-44], ratio 0.877323\n",
      "Problem A, RunID: 845352 [bnu18-10], RunID: 844731 [cugb18-1], ratio 0.830022\n",
      "Problem A, RunID: 845352 [bnu18-10], RunID: 844733 [cugb18-1], ratio 0.825054\n",
      "Problem A, RunID: 844750 [bjfu18-2], RunID: 844731 [cugb18-1], ratio 0.839400\n",
      "Problem A, RunID: 844750 [bjfu18-2], RunID: 844733 [cugb18-1], ratio 0.842767\n",
      "Problem A, RunID: 844750 [bjfu18-2], RunID: 844778 [cuc18-1], ratio 0.818372\n",
      "Problem C, RunID: 845073 [bjfu18-2], RunID: 845863 [cuc18-1], ratio 0.904564\n",
      "Problem A, RunID: 844757 [bnu18-14], RunID: 844731 [cugb18-1], ratio 0.819533\n",
      "Problem A, RunID: 844757 [bnu18-14], RunID: 844733 [cugb18-1], ratio 0.831601\n",
      "Problem A, RunID: 844745 [bupt18-1], RunID: 844741 [bnu18-40], ratio 0.819473\n",
      "Problem A, RunID: 844774 [bnu18-51], RunID: 844819 [bnu18-29], ratio 0.805611\n",
      "Problem A, RunID: 844775 [bnu18-51], RunID: 844739 [cugb18-3], ratio 0.826722\n",
      "Problem A, RunID: 844775 [bnu18-51], RunID: 844777 [bnu18-24], ratio 0.808824\n",
      "Problem A, RunID: 844775 [bnu18-51], RunID: 844778 [cuc18-1], ratio 0.810811\n",
      "Problem A, RunID: 844775 [bnu18-51], RunID: 844751 [bnu18-42], ratio 0.810409\n",
      "Problem A, RunID: 844775 [bnu18-51], RunID: 844756 [bnu18-42], ratio 0.814126\n",
      "Problem A, RunID: 844775 [bnu18-51], RunID: 844767 [bnu18-42], ratio 0.813869\n",
      "Problem A, RunID: 844761 [bjfu18-1], RunID: 844733 [cugb18-1], ratio 0.804878\n",
      "Problem A, RunID: 844761 [bjfu18-1], RunID: 844732 [cugb18-2], ratio 0.815109\n",
      "Problem A, RunID: 844761 [bjfu18-1], RunID: 844739 [cugb18-3], ratio 0.849593\n",
      "Problem A, RunID: 844761 [bjfu18-1], RunID: 844764 [bnu18-41], ratio 0.812030\n",
      "Problem A, RunID: 844761 [bjfu18-1], RunID: 844746 [bnu18-16], ratio 0.815789\n",
      "Problem A, RunID: 844731 [cugb18-1], RunID: 844739 [cugb18-3], ratio 0.803419\n",
      "Problem A, RunID: 844731 [cugb18-1], RunID: 844778 [cuc18-1], ratio 0.825532\n",
      "Problem A, RunID: 844731 [cugb18-1], RunID: 844746 [bnu18-16], ratio 0.822835\n",
      "Problem A, RunID: 844733 [cugb18-1], RunID: 844739 [cugb18-3], ratio 0.820084\n",
      "Problem A, RunID: 844733 [cugb18-1], RunID: 844778 [cuc18-1], ratio 0.833333\n",
      "Problem A, RunID: 844733 [cugb18-1], RunID: 844746 [bnu18-16], ratio 0.818533\n",
      "Problem A, RunID: 844732 [cugb18-2], RunID: 844764 [bnu18-41], ratio 0.843100\n",
      "Problem A, RunID: 844732 [cugb18-2], RunID: 844778 [cuc18-1], ratio 0.835031\n",
      "Problem A, RunID: 844739 [cugb18-3], RunID: 844778 [cuc18-1], ratio 0.845833\n",
      "Problem A, RunID: 844739 [cugb18-3], RunID: 844746 [bnu18-16], ratio 0.810811\n",
      "Problem A, RunID: 844743 [bnu18-43], RunID: 844813 [bnu18-49], ratio 0.824242\n",
      "Problem A, RunID: 844743 [bnu18-43], RunID: 844753 [bnu18-30], ratio 0.833333\n",
      "Problem A, RunID: 844747 [bnu18-33], RunID: 844753 [bnu18-30], ratio 0.811429\n",
      "Problem C, RunID: 845095 [bnu18-33], RunID: 844839 [bnu18-30], ratio 0.820059\n",
      "Problem C, RunID: 845095 [bnu18-33], RunID: 844841 [bnu18-30], ratio 0.822157\n",
      "Problem C, RunID: 845095 [bnu18-33], RunID: 844851 [bnu18-30], ratio 0.802326\n",
      "Problem A, RunID: 844764 [bnu18-41], RunID: 844778 [cuc18-1], ratio 0.803846\n",
      "Problem A, RunID: 844764 [bnu18-41], RunID: 844746 [bnu18-16], ratio 0.863799\n",
      "Problem A, RunID: 844777 [bnu18-24], RunID: 844746 [bnu18-16], ratio 0.813036\n",
      "Problem A, RunID: 844777 [bnu18-24], RunID: 844751 [bnu18-42], ratio 0.883721\n",
      "Problem A, RunID: 844777 [bnu18-24], RunID: 844756 [bnu18-42], ratio 0.887043\n",
      "Problem A, RunID: 844777 [bnu18-24], RunID: 844767 [bnu18-42], ratio 0.905229\n",
      "Problem A, RunID: 844819 [bnu18-29], RunID: 845174 [bnu18-3], ratio 0.800699\n",
      "Problem A, RunID: 844819 [bnu18-29], RunID: 845353 [bnu18-4], ratio 0.818868\n",
      "Problem A, RunID: 844819 [bnu18-29], RunID: 845385 [bnu18-4], ratio 0.808194\n",
      "Problem A, RunID: 845103 [bnu18-38], RunID: 844758 [bnu18-52], ratio 0.801498\n",
      "Problem A, RunID: 845123 [bnu18-38], RunID: 844755 [bnu18-52], ratio 0.835341\n",
      "Problem A, RunID: 845123 [bnu18-38], RunID: 844758 [bnu18-52], ratio 0.849206\n",
      "Problem A, RunID: 845123 [bnu18-38], RunID: 844825 [bnu18-44], ratio 0.842505\n",
      "Problem A, RunID: 845170 [bnu18-38], RunID: 844755 [bnu18-52], ratio 0.835341\n",
      "Problem A, RunID: 845170 [bnu18-38], RunID: 844758 [bnu18-52], ratio 0.849206\n",
      "Problem A, RunID: 845170 [bnu18-38], RunID: 844825 [bnu18-44], ratio 0.842505\n",
      "Problem A, RunID: 845186 [bnu18-38], RunID: 844755 [bnu18-52], ratio 0.809430\n",
      "Problem A, RunID: 845186 [bnu18-38], RunID: 844758 [bnu18-52], ratio 0.823301\n",
      "Problem A, RunID: 845186 [bnu18-38], RunID: 844825 [bnu18-44], ratio 0.817844\n",
      "Problem A, RunID: 845198 [bnu18-38], RunID: 844755 [bnu18-52], ratio 0.809430\n",
      "Problem A, RunID: 845198 [bnu18-38], RunID: 844758 [bnu18-52], ratio 0.823301\n",
      "Problem A, RunID: 845198 [bnu18-38], RunID: 844825 [bnu18-44], ratio 0.817844\n",
      "Problem A, RunID: 845224 [bnu18-38], RunID: 844755 [bnu18-52], ratio 0.805501\n",
      "Problem A, RunID: 845224 [bnu18-38], RunID: 844758 [bnu18-52], ratio 0.819417\n",
      "Problem A, RunID: 845224 [bnu18-38], RunID: 844825 [bnu18-44], ratio 0.832714\n",
      "Problem A, RunID: 844759 [bnu18-49], RunID: 844753 [bnu18-30], ratio 0.837113\n",
      "Problem A, RunID: 844813 [bnu18-49], RunID: 844753 [bnu18-30], ratio 0.871690\n",
      "Problem G, RunID: 845617 [bnu18-49], RunID: 845076 [bnu18-30], ratio 0.860523\n",
      "Problem G, RunID: 845617 [bnu18-49], RunID: 845113 [bnu18-30], ratio 0.920522\n",
      "Problem G, RunID: 845617 [bnu18-49], RunID: 845142 [bnu18-30], ratio 0.921801\n",
      "Problem G, RunID: 845617 [bnu18-49], RunID: 845145 [bnu18-30], ratio 0.922986\n",
      "Problem G, RunID: 845617 [bnu18-49], RunID: 845154 [bnu18-30], ratio 0.926800\n",
      "Problem G, RunID: 845617 [bnu18-49], RunID: 845166 [bnu18-30], ratio 0.954572\n",
      "Problem G, RunID: 845617 [bnu18-49], RunID: 845178 [bnu18-30], ratio 0.958166\n"
     ]
    },
    {
     "name": "stdout",
     "output_type": "stream",
     "text": [
      "Problem G, RunID: 845676 [bnu18-49], RunID: 845076 [bnu18-30], ratio 0.864090\n",
      "Problem G, RunID: 845676 [bnu18-49], RunID: 845113 [bnu18-30], ratio 0.923990\n",
      "Problem G, RunID: 845676 [bnu18-49], RunID: 845142 [bnu18-30], ratio 0.925267\n",
      "Problem G, RunID: 845676 [bnu18-49], RunID: 845145 [bnu18-30], ratio 0.926453\n",
      "Problem G, RunID: 845676 [bnu18-49], RunID: 845154 [bnu18-30], ratio 0.930260\n",
      "Problem G, RunID: 845676 [bnu18-49], RunID: 845166 [bnu18-30], ratio 0.957974\n",
      "Problem G, RunID: 845676 [bnu18-49], RunID: 845178 [bnu18-30], ratio 0.961561\n",
      "Problem A, RunID: 844755 [bnu18-52], RunID: 844825 [bnu18-44], ratio 0.812121\n",
      "Problem A, RunID: 844758 [bnu18-52], RunID: 844825 [bnu18-44], ratio 0.826347\n",
      "Problem A, RunID: 844778 [cuc18-1], RunID: 844746 [bnu18-16], ratio 0.826923\n",
      "Problem A, RunID: 844746 [bnu18-16], RunID: 844751 [bnu18-42], ratio 0.818024\n",
      "Problem A, RunID: 844746 [bnu18-16], RunID: 844756 [bnu18-42], ratio 0.821490\n",
      "Problem A, RunID: 844746 [bnu18-16], RunID: 844767 [bnu18-42], ratio 0.821124\n",
      "Problem A, RunID: 844793 [bnu18-21], RunID: 844825 [bnu18-44], ratio 0.877670\n",
      "Problem A, RunID: 844793 [bnu18-21], RunID: 844829 [bnu18-28], ratio 0.802419\n"
     ]
    }
   ],
   "source": [
    "for i in range(860):\n",
    "    for j in range(i, 860):\n",
    "        if i != j and df['Problem'][i] == df['Problem'][j] and df['Username'][i] != df['Username'][j]:\n",
    "            ratio = calculate_ratio(i, j)\n",
    "            if ratio > 0.8:\n",
    "                print('Problem %s, RunID: %s [%s], RunID: %s [%s], ratio %f' % (df['Problem'][i], df['RunID'][i], df['Username'][i], df['RunID'][j], df['Username'][j], ratio))\n",
    "#                 print(simplify_code(df['Code'][i]))\n",
    "#                 print(simplify_code(df['Code'][j]))"
   ]
  },
  {
   "cell_type": "code",
   "execution_count": 293,
   "metadata": {
    "scrolled": false
   },
   "outputs": [
    {
     "name": "stdout",
     "output_type": "stream",
     "text": [
      "using namespace std;\n",
      "int main()\n",
      "{\n",
      "int t;\n",
      "string s;\n",
      "cin>>t;\n",
      "for(int i=0;i<t;i++)\n",
      "{\n",
      "cin>>s;\n",
      "int len=0;\n",
      "len=s.length();\n",
      "int temp=0;\n",
      "int flag=0;\n",
      "for(int j=0;j<len;j++)\n",
      "{\n",
      "if(s[j]=='A'||s[j]=='B'||s[j]=='C'||s[j]=='D'||s[j]=='E'||s[j]=='F'||s[j]=='G'||s[j]=='H'||s[j]=='I'||s[j]=='J'||s[j]=='K'||s[j]=='L'||s[j]=='M'||s[j]=='N'||s[j]=='O'||s[j]=='P'||s[j]=='Q'||s[j]=='R'||s[j]=='S'||s[j]=='T'||s[j]=='U'||s[j]=='V'||s[j]=='W'||s[j]=='X'||s[j]=='Y'||s[j]=='Z')\n",
      "{\n",
      "if(j==0)\n",
      "{\n",
      "temp=j;\n",
      "}\n",
      "else if(j-temp>=2)\n",
      "{\n",
      "flag=1;\n",
      "temp=j;\n",
      "if(j==len-1)\n",
      "{\n",
      "flag=0;\n",
      "break;\n",
      "}\n",
      "}\n",
      "else\n",
      "{\n",
      "flag=0;\n",
      "break;\n",
      "}\n",
      "}\n",
      "}\n",
      "if(flag==0)\n",
      "{\n",
      "cout<<s<<endl;\n",
      "}\n",
      "else\n",
      "{\n",
      "for(int j=0;j<len;j++)\n",
      "{\n",
      "if(s[j]=='A'||s[j]=='B'||s[j]=='C'||s[j]=='D'||s[j]=='E'||s[j]=='F'||s[j]=='G'||s[j]=='H'||s[j]=='I'||s[j]=='J'||s[j]=='K'||s[j]=='L'||s[j]=='M'||s[j]=='N'||s[j]=='O'||s[j]=='P'||s[j]=='Q'||s[j]=='R'||s[j]=='S'||s[j]=='T'||s[j]=='U'||s[j]=='V'||s[j]=='W'||s[j]=='X'||s[j]=='Y'||s[j]=='Z')\n",
      "{\n",
      "if(j==0)\n",
      "{\n",
      "cout<<char(s[j]+32);\n",
      "}\n",
      "else\n",
      "{\n",
      "cout<<\"_\"<<char(s[j]+32);\n",
      "}\n",
      "}\n",
      "else\n",
      "{\n",
      "cout<<s[j];\n",
      "}\n",
      "}\n",
      "cout<<endl;\n",
      "}\n",
      "}\n",
      "return 0;\n",
      "}\n",
      "\n",
      "using namespace std;\n",
      "int main()\n",
      "{\n",
      "int t;\n",
      "string s;\n",
      "cin>>t;\n",
      "for(int i=0;i<t;i++)\n",
      "{\n",
      "cin>>s;\n",
      "int len=0;\n",
      "len=s.length();\n",
      "int temp=0;\n",
      "int flag=0;\n",
      "for(int j=0;j<len;j++)\n",
      "{\n",
      "if(s[j]=='A'||s[j]=='B'||s[j]=='C'||s[j]=='D'||s[j]=='E'||s[j]=='F'||s[j]=='G'||s[j]=='H'||s[j]=='I'||s[j]=='J'||s[j]=='K'||s[j]=='L'||s[j]=='M'||s[j]=='N'||s[j]=='O'||s[j]=='P'||s[j]=='Q'||s[j]=='R'||s[j]=='S'||s[j]=='T'||s[j]=='U'||s[j]=='V'||s[j]=='W'||s[j]=='X'||s[j]=='Y'||s[j]=='Z')\n",
      "{\n",
      "if(j==0)\n",
      "{\n",
      "temp=j;\n",
      "}\n",
      "else if(j-temp>=2)\n",
      "{\n",
      "flag=1;\n",
      "temp=j;\n",
      "if(j==len-1)\n",
      "{\n",
      "flag=0;\n",
      "break;\n",
      "}\n",
      "}\n",
      "else\n",
      "{\n",
      "flag=0;\n",
      "break;\n",
      "}\n",
      "}\n",
      "}\n",
      "if(flag==0)\n",
      "{\n",
      "cout<<s<<endl;\n",
      "}\n",
      "else\n",
      "{\n",
      "for(int j=0;j<len;j++)\n",
      "{\n",
      "if(s[j]=='A'||s[j]=='B'||s[j]=='C'||s[j]=='D'||s[j]=='E'||s[j]=='F'||s[j]=='G'||s[j]=='H'||s[j]=='I'||s[j]=='J'||s[j]=='K'||s[j]=='L'||s[j]=='M'||s[j]=='N'||s[j]=='O'||s[j]=='P'||s[j]=='Q'||s[j]=='R'||s[j]=='S'||s[j]=='T'||s[j]=='U'||s[j]=='V'||s[j]=='W'||s[j]=='X'||s[j]=='Y'||s[j]=='Z')\n",
      "{\n",
      "if(j==0)\n",
      "{\n",
      "cout<<char(s[j]+32);\n",
      "}\n",
      "else\n",
      "{\n",
      "cout<<\"_\"<<char(s[j]+32);\n",
      "}\n",
      "}\n",
      "else\n",
      "{\n",
      "cout<<s[j];\n",
      "}\n",
      "}\n",
      "cout<<endl;\n",
      "}\n",
      "}\n",
      "return 0;\n",
      "}\n",
      "\n"
     ]
    }
   ],
   "source": [
    "df_code = df\n",
    "df_code.index = df_code['RunID']\n",
    "print(simplify_code(df_code['Code'][845666]))\n",
    "print(simplify_code(df_code['Code'][845602]))"
   ]
  }
 ],
 "metadata": {
  "kernelspec": {
   "display_name": "Python 3",
   "language": "python",
   "name": "python3"
  },
  "language_info": {
   "codemirror_mode": {
    "name": "ipython",
    "version": 3
   },
   "file_extension": ".py",
   "mimetype": "text/x-python",
   "name": "python",
   "nbconvert_exporter": "python",
   "pygments_lexer": "ipython3",
   "version": "3.6.2"
  },
  "varInspector": {
   "cols": {
    "lenName": 16,
    "lenType": 16,
    "lenVar": 40
   },
   "kernels_config": {
    "python": {
     "delete_cmd_postfix": "",
     "delete_cmd_prefix": "del ",
     "library": "var_list.py",
     "varRefreshCmd": "print(var_dic_list())"
    },
    "r": {
     "delete_cmd_postfix": ") ",
     "delete_cmd_prefix": "rm(",
     "library": "var_list.r",
     "varRefreshCmd": "cat(var_dic_list()) "
    }
   },
   "types_to_exclude": [
    "module",
    "function",
    "builtin_function_or_method",
    "instance",
    "_Feature"
   ],
   "window_display": false
  }
 },
 "nbformat": 4,
 "nbformat_minor": 2
}
